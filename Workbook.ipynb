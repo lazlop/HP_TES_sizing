{
 "cells": [
  {
   "cell_type": "code",
   "execution_count": 10,
   "id": "2ad9ae1f-63a3-4692-8d8a-320a23160c74",
   "metadata": {},
   "outputs": [],
   "source": [
    "# HP-TES sizing"
   ]
  },
  {
   "cell_type": "code",
   "execution_count": 11,
   "id": "4e1f7ee3-8983-4a9f-82e4-c7237067df3f",
   "metadata": {},
   "outputs": [],
   "source": [
    "# Define Peak Price and Peak load overlap (discharge time) and charge time"
   ]
  },
  {
   "cell_type": "code",
   "execution_count": 12,
   "id": "4584d6a6-2daf-48bb-aeeb-9d9808be4a1b",
   "metadata": {},
   "outputs": [
    {
     "data": {
      "text/plain": [
       "' \\nFind peak load (kW) and make that the Heat Pump capacity without any TES\\nThis is refered to as Point B\\n'"
      ]
     },
     "execution_count": 12,
     "metadata": {},
     "output_type": "execute_result"
    }
   ],
   "source": [
    "# Point 1 (B) - Size HP for Peak Load\n",
    "\n",
    "''' \n",
    "Find peak load (kW) and make that the Heat Pump capacity without any TES\n",
    "This is refered to as Point B\n",
    "'''"
   ]
  },
  {
   "cell_type": "code",
   "execution_count": 13,
   "id": "b88cbe11-b457-4404-a56f-dd6769f07c67",
   "metadata": {},
   "outputs": [],
   "source": [
    "# Point 2 (between A and B) - Size TES to provide FULL load during 1. peak price hour"
   ]
  },
  {
   "cell_type": "code",
   "execution_count": 14,
   "id": "884af7d5-85db-45e4-a3ee-967b516c141f",
   "metadata": {},
   "outputs": [],
   "source": [
    "# Point 3 (A) - Minimize HP size, Whole peak load provided by TES"
   ]
  },
  {
   "cell_type": "code",
   "execution_count": null,
   "id": "7479c65c-d180-4758-bb03-c9e46a2401f1",
   "metadata": {},
   "outputs": [],
   "source": [
    "# Point (C) - "
   ]
  }
 ],
 "metadata": {
  "kernelspec": {
   "display_name": "Python 3",
   "language": "python",
   "name": "python3"
  },
  "language_info": {
   "codemirror_mode": {
    "name": "ipython",
    "version": 3
   },
   "file_extension": ".py",
   "mimetype": "text/x-python",
   "name": "python",
   "nbconvert_exporter": "python",
   "pygments_lexer": "ipython3",
   "version": "3.8.3"
  }
 },
 "nbformat": 4,
 "nbformat_minor": 5
}
