{
 "cells": [
  {
   "cell_type": "code",
   "execution_count": 4,
   "id": "2ad9ae1f-63a3-4692-8d8a-320a23160c74",
   "metadata": {},
   "outputs": [],
   "source": [
    "# HP-TES sizing\n",
    "import pandas as pd"
   ]
  },
  {
   "cell_type": "markdown",
   "id": "4e1f7ee3-8983-4a9f-82e4-c7237067df3f",
   "metadata": {},
   "source": [
    "## Define Peak Price and Peak load overlap (discharge time) and charge time\n",
    "\n",
    "Lets say 12 - 6 pm is discharge 8pm to 10 am is charge"
   ]
  },
  {
   "cell_type": "markdown",
   "id": "c6577db3",
   "metadata": {},
   "source": [
    "## Find HP Sizing Trapezoid\n",
    "\n",
    "Points start in bottom right, and the perimeter of the sizing trapezoid is drawn clockwise from point 1 to point 2 to point 3, etc."
   ]
  },
  {
   "cell_type": "code",
   "execution_count": 118,
   "id": "fac50a96",
   "metadata": {},
   "outputs": [],
   "source": [
    "# times must be 2 digit strings, 24 hour format\n",
    "charge_st = '20'\n",
    "charge_et = '10'\n",
    "charge_duration = 10\n",
    "discharge_st = '12'\n",
    "discharge_et = '20'"
   ]
  },
  {
   "cell_type": "code",
   "execution_count": 119,
   "id": "4584d6a6-2daf-48bb-aeeb-9d9808be4a1b",
   "metadata": {},
   "outputs": [
    {
     "data": {
      "text/html": [
       "<div>\n",
       "<style scoped>\n",
       "    .dataframe tbody tr th:only-of-type {\n",
       "        vertical-align: middle;\n",
       "    }\n",
       "\n",
       "    .dataframe tbody tr th {\n",
       "        vertical-align: top;\n",
       "    }\n",
       "\n",
       "    .dataframe thead th {\n",
       "        text-align: right;\n",
       "    }\n",
       "</style>\n",
       "<table border=\"1\" class=\"dataframe\">\n",
       "  <thead>\n",
       "    <tr style=\"text-align: right;\">\n",
       "      <th></th>\n",
       "      <th>1A-Th-Chilled Water</th>\n",
       "    </tr>\n",
       "    <tr>\n",
       "      <th>Time</th>\n",
       "      <th></th>\n",
       "    </tr>\n",
       "  </thead>\n",
       "  <tbody>\n",
       "    <tr>\n",
       "      <th>2021-08-09 13:28:00</th>\n",
       "      <td>2.20 kW</td>\n",
       "    </tr>\n",
       "    <tr>\n",
       "      <th>2021-08-09 13:29:00</th>\n",
       "      <td>2.48 kW</td>\n",
       "    </tr>\n",
       "    <tr>\n",
       "      <th>2021-08-09 13:33:00</th>\n",
       "      <td>1.75 kW</td>\n",
       "    </tr>\n",
       "    <tr>\n",
       "      <th>2021-08-09 13:34:00</th>\n",
       "      <td>1.59 kW</td>\n",
       "    </tr>\n",
       "    <tr>\n",
       "      <th>2021-08-09 13:35:00</th>\n",
       "      <td>1.51 kW</td>\n",
       "    </tr>\n",
       "  </tbody>\n",
       "</table>\n",
       "</div>"
      ],
      "text/plain": [
       "                    1A-Th-Chilled Water\n",
       "Time                                   \n",
       "2021-08-09 13:28:00             2.20 kW\n",
       "2021-08-09 13:29:00             2.48 kW\n",
       "2021-08-09 13:33:00             1.75 kW\n",
       "2021-08-09 13:34:00             1.59 kW\n",
       "2021-08-09 13:35:00             1.51 kW"
      ]
     },
     "execution_count": 119,
     "metadata": {},
     "output_type": "execute_result"
    }
   ],
   "source": [
    "# formatting data\n",
    "df = pd.read_csv('Cell 1A_1B Chilled Water Load -data-2022-09-30 00_41_29.csv', index_col= 'Time', parse_dates= True)\n",
    "df.head()"
   ]
  },
  {
   "cell_type": "code",
   "execution_count": 120,
   "id": "8638518c",
   "metadata": {},
   "outputs": [],
   "source": [
    "def get_kW(str_val):\n",
    "    str_splt = str_val.split(' ')\n",
    "    if str_splt[1] == 'kW':\n",
    "        return float(str_splt[0])\n",
    "    elif str_splt[1] == 'W':\n",
    "        return float(str_splt[0])/1000\n",
    "    elif str_splt[1] == 'mW':\n",
    "        return float(str_splt[0])/1000000\n",
    "    elif str_splt[1] == 'µW':\n",
    "        return float(str_splt[0])/1000000000  \n",
    "    else:\n",
    "        print(str_val)\n",
    "        #return 0 \n",
    "        raise(Exception('not kW or W or mW or µW'))\n"
   ]
  },
  {
   "cell_type": "code",
   "execution_count": 121,
   "id": "b924dd6d",
   "metadata": {},
   "outputs": [
    {
     "data": {
      "text/html": [
       "<div>\n",
       "<style scoped>\n",
       "    .dataframe tbody tr th:only-of-type {\n",
       "        vertical-align: middle;\n",
       "    }\n",
       "\n",
       "    .dataframe tbody tr th {\n",
       "        vertical-align: top;\n",
       "    }\n",
       "\n",
       "    .dataframe thead th {\n",
       "        text-align: right;\n",
       "    }\n",
       "</style>\n",
       "<table border=\"1\" class=\"dataframe\">\n",
       "  <thead>\n",
       "    <tr style=\"text-align: right;\">\n",
       "      <th></th>\n",
       "      <th>value</th>\n",
       "    </tr>\n",
       "    <tr>\n",
       "      <th>Time</th>\n",
       "      <th></th>\n",
       "    </tr>\n",
       "  </thead>\n",
       "  <tbody>\n",
       "    <tr>\n",
       "      <th>2021-08-09 13:28:00</th>\n",
       "      <td>2.20</td>\n",
       "    </tr>\n",
       "    <tr>\n",
       "      <th>2021-08-09 13:29:00</th>\n",
       "      <td>2.48</td>\n",
       "    </tr>\n",
       "    <tr>\n",
       "      <th>2021-08-09 13:33:00</th>\n",
       "      <td>1.75</td>\n",
       "    </tr>\n",
       "    <tr>\n",
       "      <th>2021-08-09 13:34:00</th>\n",
       "      <td>1.59</td>\n",
       "    </tr>\n",
       "    <tr>\n",
       "      <th>2021-08-09 13:35:00</th>\n",
       "      <td>1.51</td>\n",
       "    </tr>\n",
       "  </tbody>\n",
       "</table>\n",
       "</div>"
      ],
      "text/plain": [
       "                     value\n",
       "Time                      \n",
       "2021-08-09 13:28:00   2.20\n",
       "2021-08-09 13:29:00   2.48\n",
       "2021-08-09 13:33:00   1.75\n",
       "2021-08-09 13:34:00   1.59\n",
       "2021-08-09 13:35:00   1.51"
      ]
     },
     "execution_count": 121,
     "metadata": {},
     "output_type": "execute_result"
    }
   ],
   "source": [
    "df['value'] = df['1A-Th-Chilled Water'].apply(get_kW)\n",
    "df = df.drop(columns = '1A-Th-Chilled Water')\n",
    "df.head()"
   ]
  },
  {
   "cell_type": "code",
   "execution_count": 122,
   "id": "504cc78b",
   "metadata": {},
   "outputs": [],
   "source": [
    "peak_ser = df.loc[f'2021-10-09 {discharge_st}:00:00': f'2021-10-10 {discharge_et}:00:00', 'value']\n",
    "peak_energy = peak_ser.sum()/60\n",
    "#charge_energy = df.loc[f'2021-10-09 {charge_st}:00:00': f'2021-10-10 {charge_et}:00:00', 'value'].sum()/60"
   ]
  },
  {
   "cell_type": "code",
   "execution_count": 129,
   "id": "7545c3bd",
   "metadata": {},
   "outputs": [
    {
     "name": "stdout",
     "output_type": "stream",
     "text": [
      "(6.24, 0)\n"
     ]
    }
   ],
   "source": [
    "# Point 1 (B) - Size HP for Peak Load\n",
    "\n",
    "''' \n",
    "HP Capacity (kW) is x axis, TES size (kWh) is y axis\n",
    "Find peak load (kW) and make that the Heat Pump capacity without any TES\n",
    "This is refered to as Point B\n",
    "'''\n",
    "# hp_size_max = df.max().value # not using peak day\n",
    "hp_size_max = peak_ser.max() # using value in peak period\n",
    "point_1 = (hp_size_max, 0)\n",
    "print(point_1)"
   ]
  },
  {
   "cell_type": "code",
   "execution_count": 130,
   "id": "b88cbe11-b457-4404-a56f-dd6769f07c67",
   "metadata": {},
   "outputs": [
    {
     "name": "stdout",
     "output_type": "stream",
     "text": [
      "(3.12, 38.563833333333335)\n"
     ]
    }
   ],
   "source": [
    "# Point 2 (between A and B) - Size TES to reduce HP capacity\n",
    "\n",
    "'''\n",
    "Potentially unnecessary point\n",
    "\n",
    "Possible intermediate size: \n",
    "    Full cooling load for single Peak price hour within discharge window\n",
    "    Half the size \n",
    "'''\n",
    "hp_size = 0.5 * hp_size_max\n",
    "\n",
    "TES_size = peak_ser.loc[peak_ser - hp_size > 0].sum()/60 # load during peak period above what HP can provide\n",
    "\n",
    "point_2 = (hp_size, TES_size)\n",
    "print(point_2)\n",
    "\n"
   ]
  },
  {
   "cell_type": "code",
   "execution_count": 140,
   "id": "884af7d5-85db-45e4-a3ee-967b516c141f",
   "metadata": {},
   "outputs": [],
   "source": [
    "# Point 3 (A) - Minimize HP capacity\n",
    "'''\n",
    "Energy needed during peak - HP Capacity * discharge time - TES size = 0 (all energy at peak satisfied) \n",
    "hp_size = peak_energy / (charge_time + discharge_time)\n",
    "\n",
    "This is essentially the bottom line of the trapezoid\n",
    "'''\n",
    "\n",
    "size_reduction = -0.005\n",
    "hp_size = hp_size_max \n",
    "for i in range(0,10000):\n",
    "    # TES_size_prev = TES_size\n",
    "    # hp_size_prev = hp_size\n",
    "    hp_size = hp_size + size_reduction * i\n",
    "    TES_size = peak_ser.loc[peak_ser - hp_size > 0].sum()/60\n",
    "\n",
    "    if TES_size > (hp_size * charge_duration):\n",
    "        break\n",
    "\n",
    "    #size_reduction = (TES_size_prev - TES_size)/(hp_size_prev - hp_size)\n",
    "point_3 = (hp_size,TES_size)"
   ]
  },
  {
   "cell_type": "code",
   "execution_count": 141,
   "id": "1e3537b5",
   "metadata": {},
   "outputs": [
    {
     "data": {
      "text/plain": [
       "(3.4350000000000014, 35.81733333333333)"
      ]
     },
     "execution_count": 141,
     "metadata": {},
     "output_type": "execute_result"
    }
   ],
   "source": [
    "point_3"
   ]
  },
  {
   "cell_type": "code",
   "execution_count": 143,
   "id": "7479c65c-d180-4758-bb03-c9e46a2401f1",
   "metadata": {},
   "outputs": [
    {
     "name": "stdout",
     "output_type": "stream",
     "text": [
      "(5.664511708333334, 56.64511708333334)\n"
     ]
    }
   ],
   "source": [
    "# Point 4 C - Find TES size to supply all energy during discharge window\n",
    "''' \n",
    "peak energy = HP capacity * charge time\n",
    "''' \n",
    "TES_size = peak_energy\n",
    "hp_size = TES_size/charge_duration \n",
    "point_4 = (hp_size, TES_size)\n",
    "print(point_4)\n"
   ]
  },
  {
   "cell_type": "code",
   "execution_count": null,
   "id": "d3e731b3",
   "metadata": {},
   "outputs": [],
   "source": [
    "# Point 5 (D) - Maximum TES Size and maximum HP size"
   ]
  },
  {
   "cell_type": "code",
   "execution_count": null,
   "id": "0c4f581a",
   "metadata": {},
   "outputs": [],
   "source": [
    "class HP_sizer():\n",
    "\n",
    "    def __init__(file):\n",
    "        self.file = file"
   ]
  }
 ],
 "metadata": {
  "kernelspec": {
   "display_name": "Python 3.8.3 ('base')",
   "language": "python",
   "name": "python3"
  },
  "language_info": {
   "codemirror_mode": {
    "name": "ipython",
    "version": 3
   },
   "file_extension": ".py",
   "mimetype": "text/x-python",
   "name": "python",
   "nbconvert_exporter": "python",
   "pygments_lexer": "ipython3",
   "version": "3.8.3"
  },
  "vscode": {
   "interpreter": {
    "hash": "4256a7c48e0d05b8c5d9035f2da9ccd67848a8ce35912b30e9695a74575e054a"
   }
  }
 },
 "nbformat": 4,
 "nbformat_minor": 5
}
