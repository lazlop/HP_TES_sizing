{
 "cells": [
  {
   "cell_type": "code",
   "execution_count": 93,
   "id": "2ad9ae1f-63a3-4692-8d8a-320a23160c74",
   "metadata": {},
   "outputs": [],
   "source": [
    "# HP-TES sizing\n",
    "import pandas as pd\n",
    "import matplotlib.pyplot as plt\n",
    "from datetime import datetime, timedelta, date, time\n",
    "import matplotlib.dates as mdates"
   ]
  },
  {
   "cell_type": "markdown",
   "id": "4e1f7ee3-8983-4a9f-82e4-c7237067df3f",
   "metadata": {},
   "source": [
    "## Define Peak Price and Peak load overlap (discharge time) and charge time\n",
    "\n",
    "Lets say 12 - 6 pm is discharge 8pm to 10 am is charge"
   ]
  },
  {
   "cell_type": "markdown",
   "id": "c6577db3",
   "metadata": {},
   "source": [
    "## Find HP Sizing Trapezoid\n",
    "\n",
    "Points start in bottom right, and the perimeter of the sizing trapezoid is drawn clockwise from point 1 to point 2 to point 3, etc.\n",
    "\n",
    "Notes:\n",
    "USE CELL B AS REFERENCE or one without PCM\n",
    "Could aggregate for multiple dates\n",
    "Aggregation Methods:\n",
    " - Average multiple dates together, chosen visually\n",
    " - Select several of the highest max load days, average the trapezoids\n",
    "    - highest max load NOT indicitive of overall peak loads.\n",
    " - Select several highest load days, average days then generate trapezoid\n",
    " - Select days with highest load DURING peak period\n",
    " - Select days with highest average of load and energy (during peak period or full day)\n"
   ]
  },
  {
   "cell_type": "code",
   "execution_count": 94,
   "id": "fac50a96",
   "metadata": {},
   "outputs": [],
   "source": [
    "# times must be 2 digit strings, 24 hour format\n",
    "charge_st = '20'\n",
    "charge_et = '10'\n",
    "charge_duration = 10\n",
    "discharge_st = '12'\n",
    "discharge_et = '20'"
   ]
  },
  {
   "cell_type": "code",
   "execution_count": 95,
   "id": "4584d6a6-2daf-48bb-aeeb-9d9808be4a1b",
   "metadata": {},
   "outputs": [
    {
     "data": {
      "text/html": [
       "<div>\n",
       "<style scoped>\n",
       "    .dataframe tbody tr th:only-of-type {\n",
       "        vertical-align: middle;\n",
       "    }\n",
       "\n",
       "    .dataframe tbody tr th {\n",
       "        vertical-align: top;\n",
       "    }\n",
       "\n",
       "    .dataframe thead th {\n",
       "        text-align: right;\n",
       "    }\n",
       "</style>\n",
       "<table border=\"1\" class=\"dataframe\">\n",
       "  <thead>\n",
       "    <tr style=\"text-align: right;\">\n",
       "      <th></th>\n",
       "      <th>1A-Th-Chilled Water</th>\n",
       "    </tr>\n",
       "    <tr>\n",
       "      <th>Time</th>\n",
       "      <th></th>\n",
       "    </tr>\n",
       "  </thead>\n",
       "  <tbody>\n",
       "    <tr>\n",
       "      <th>2021-08-09 13:28:00</th>\n",
       "      <td>2.20 kW</td>\n",
       "    </tr>\n",
       "    <tr>\n",
       "      <th>2021-08-09 13:29:00</th>\n",
       "      <td>2.48 kW</td>\n",
       "    </tr>\n",
       "    <tr>\n",
       "      <th>2021-08-09 13:33:00</th>\n",
       "      <td>1.75 kW</td>\n",
       "    </tr>\n",
       "    <tr>\n",
       "      <th>2021-08-09 13:34:00</th>\n",
       "      <td>1.59 kW</td>\n",
       "    </tr>\n",
       "    <tr>\n",
       "      <th>2021-08-09 13:35:00</th>\n",
       "      <td>1.51 kW</td>\n",
       "    </tr>\n",
       "  </tbody>\n",
       "</table>\n",
       "</div>"
      ],
      "text/plain": [
       "                    1A-Th-Chilled Water\n",
       "Time                                   \n",
       "2021-08-09 13:28:00             2.20 kW\n",
       "2021-08-09 13:29:00             2.48 kW\n",
       "2021-08-09 13:33:00             1.75 kW\n",
       "2021-08-09 13:34:00             1.59 kW\n",
       "2021-08-09 13:35:00             1.51 kW"
      ]
     },
     "execution_count": 95,
     "metadata": {},
     "output_type": "execute_result"
    }
   ],
   "source": [
    "# formatting data\n",
    "df = pd.read_csv('Cell 1A_1B Chilled Water Load -data-2022-09-30 00_41_29.csv', index_col= 'Time', parse_dates= True)\n",
    "df.head()"
   ]
  },
  {
   "cell_type": "code",
   "execution_count": 96,
   "id": "8638518c",
   "metadata": {},
   "outputs": [],
   "source": [
    "def get_kW(str_val):\n",
    "    str_splt = str_val.split(' ')\n",
    "    if str_splt[1] == 'kW':\n",
    "        return float(str_splt[0])\n",
    "    elif str_splt[1] == 'W':\n",
    "        return float(str_splt[0])/1000\n",
    "    elif str_splt[1] == 'mW':\n",
    "        return float(str_splt[0])/1000000\n",
    "    elif str_splt[1] == 'µW':\n",
    "        return float(str_splt[0])/1000000000  \n",
    "    else:\n",
    "        print(str_val)\n",
    "        #return 0 \n",
    "        raise(Exception('not kW or W or mW or µW'))\n"
   ]
  },
  {
   "cell_type": "code",
   "execution_count": 97,
   "id": "b924dd6d",
   "metadata": {},
   "outputs": [
    {
     "data": {
      "text/html": [
       "<div>\n",
       "<style scoped>\n",
       "    .dataframe tbody tr th:only-of-type {\n",
       "        vertical-align: middle;\n",
       "    }\n",
       "\n",
       "    .dataframe tbody tr th {\n",
       "        vertical-align: top;\n",
       "    }\n",
       "\n",
       "    .dataframe thead th {\n",
       "        text-align: right;\n",
       "    }\n",
       "</style>\n",
       "<table border=\"1\" class=\"dataframe\">\n",
       "  <thead>\n",
       "    <tr style=\"text-align: right;\">\n",
       "      <th></th>\n",
       "      <th>value</th>\n",
       "    </tr>\n",
       "    <tr>\n",
       "      <th>Time</th>\n",
       "      <th></th>\n",
       "    </tr>\n",
       "  </thead>\n",
       "  <tbody>\n",
       "    <tr>\n",
       "      <th>2021-08-09 13:28:00</th>\n",
       "      <td>2.20</td>\n",
       "    </tr>\n",
       "    <tr>\n",
       "      <th>2021-08-09 13:29:00</th>\n",
       "      <td>2.48</td>\n",
       "    </tr>\n",
       "    <tr>\n",
       "      <th>2021-08-09 13:33:00</th>\n",
       "      <td>1.75</td>\n",
       "    </tr>\n",
       "    <tr>\n",
       "      <th>2021-08-09 13:34:00</th>\n",
       "      <td>1.59</td>\n",
       "    </tr>\n",
       "    <tr>\n",
       "      <th>2021-08-09 13:35:00</th>\n",
       "      <td>1.51</td>\n",
       "    </tr>\n",
       "  </tbody>\n",
       "</table>\n",
       "</div>"
      ],
      "text/plain": [
       "                     value\n",
       "Time                      \n",
       "2021-08-09 13:28:00   2.20\n",
       "2021-08-09 13:29:00   2.48\n",
       "2021-08-09 13:33:00   1.75\n",
       "2021-08-09 13:34:00   1.59\n",
       "2021-08-09 13:35:00   1.51"
      ]
     },
     "execution_count": 97,
     "metadata": {},
     "output_type": "execute_result"
    }
   ],
   "source": [
    "df['value'] = df['1A-Th-Chilled Water'].apply(get_kW)\n",
    "df = df.drop(columns = '1A-Th-Chilled Water')\n",
    "df.head()"
   ]
  },
  {
   "cell_type": "code",
   "execution_count": 98,
   "id": "1acdfa08",
   "metadata": {},
   "outputs": [],
   "source": [
    "groups = df.groupby(df.index.date)\n",
    "mean_df = groups.mean()\n",
    "day = mean_df.loc[mean_df['value'] == mean_df.max()[0]].index[0]"
   ]
  },
  {
   "cell_type": "code",
   "execution_count": 99,
   "id": "0f9f6dc5",
   "metadata": {},
   "outputs": [
    {
     "data": {
      "text/html": [
       "<div>\n",
       "<style scoped>\n",
       "    .dataframe tbody tr th:only-of-type {\n",
       "        vertical-align: middle;\n",
       "    }\n",
       "\n",
       "    .dataframe tbody tr th {\n",
       "        vertical-align: top;\n",
       "    }\n",
       "\n",
       "    .dataframe thead th {\n",
       "        text-align: right;\n",
       "    }\n",
       "</style>\n",
       "<table border=\"1\" class=\"dataframe\">\n",
       "  <thead>\n",
       "    <tr style=\"text-align: right;\">\n",
       "      <th></th>\n",
       "      <th>value</th>\n",
       "    </tr>\n",
       "    <tr>\n",
       "      <th>Time</th>\n",
       "      <th></th>\n",
       "    </tr>\n",
       "  </thead>\n",
       "  <tbody>\n",
       "    <tr>\n",
       "      <th>2021-10-10 00:00:00</th>\n",
       "      <td>0.474</td>\n",
       "    </tr>\n",
       "    <tr>\n",
       "      <th>2021-10-10 00:01:00</th>\n",
       "      <td>0.473</td>\n",
       "    </tr>\n",
       "    <tr>\n",
       "      <th>2021-10-10 00:02:00</th>\n",
       "      <td>0.469</td>\n",
       "    </tr>\n",
       "    <tr>\n",
       "      <th>2021-10-10 00:03:00</th>\n",
       "      <td>0.307</td>\n",
       "    </tr>\n",
       "    <tr>\n",
       "      <th>2021-10-10 00:04:00</th>\n",
       "      <td>0.275</td>\n",
       "    </tr>\n",
       "    <tr>\n",
       "      <th>...</th>\n",
       "      <td>...</td>\n",
       "    </tr>\n",
       "    <tr>\n",
       "      <th>2021-10-10 23:54:00</th>\n",
       "      <td>0.435</td>\n",
       "    </tr>\n",
       "    <tr>\n",
       "      <th>2021-10-10 23:55:00</th>\n",
       "      <td>0.438</td>\n",
       "    </tr>\n",
       "    <tr>\n",
       "      <th>2021-10-10 23:56:00</th>\n",
       "      <td>0.439</td>\n",
       "    </tr>\n",
       "    <tr>\n",
       "      <th>2021-10-10 23:57:00</th>\n",
       "      <td>0.447</td>\n",
       "    </tr>\n",
       "    <tr>\n",
       "      <th>2021-10-10 23:59:00</th>\n",
       "      <td>0.466</td>\n",
       "    </tr>\n",
       "  </tbody>\n",
       "</table>\n",
       "<p>1311 rows × 1 columns</p>\n",
       "</div>"
      ],
      "text/plain": [
       "                     value\n",
       "Time                      \n",
       "2021-10-10 00:00:00  0.474\n",
       "2021-10-10 00:01:00  0.473\n",
       "2021-10-10 00:02:00  0.469\n",
       "2021-10-10 00:03:00  0.307\n",
       "2021-10-10 00:04:00  0.275\n",
       "...                    ...\n",
       "2021-10-10 23:54:00  0.435\n",
       "2021-10-10 23:55:00  0.438\n",
       "2021-10-10 23:56:00  0.439\n",
       "2021-10-10 23:57:00  0.447\n",
       "2021-10-10 23:59:00  0.466\n",
       "\n",
       "[1311 rows x 1 columns]"
      ]
     },
     "execution_count": 99,
     "metadata": {},
     "output_type": "execute_result"
    }
   ],
   "source": [
    "groups.get_group(date(2021,10,10))"
   ]
  },
  {
   "cell_type": "code",
   "execution_count": 100,
   "id": "e261607a",
   "metadata": {},
   "outputs": [],
   "source": [
    "days = mean_df.sort_values(by = 'value', ascending=False).index[:7]"
   ]
  },
  {
   "cell_type": "code",
   "execution_count": 101,
   "id": "a2cc5b50",
   "metadata": {},
   "outputs": [],
   "source": [
    "for i, group in groups:\n",
    "    break"
   ]
  },
  {
   "cell_type": "code",
   "execution_count": 102,
   "id": "234ca289",
   "metadata": {},
   "outputs": [],
   "source": [
    "def average_days(df, days):\n",
    "    df=df.reset_index()\n",
    "    df['date']=df['Time'].dt.date\n",
    "    df['time']=df['Time'].dt.time\n",
    "    df_day = df.loc[df.date.isin(days)].groupby('time').mean().reset_index()\n",
    "    df_day['Time'] = df_day['time'].apply(lambda x: datetime.combine(datetime.min.date(), x))\n",
    "    df_day = df_day.set_index('Time')\n",
    "    return df_day, datetime.min.date()"
   ]
  },
  {
   "cell_type": "code",
   "execution_count": 103,
   "id": "9eda45d4",
   "metadata": {},
   "outputs": [],
   "source": [
    "dfd, day = average_days(df, days)"
   ]
  },
  {
   "cell_type": "code",
   "execution_count": 104,
   "id": "05d026e1",
   "metadata": {},
   "outputs": [
    {
     "data": {
      "text/html": [
       "<div>\n",
       "<style scoped>\n",
       "    .dataframe tbody tr th:only-of-type {\n",
       "        vertical-align: middle;\n",
       "    }\n",
       "\n",
       "    .dataframe tbody tr th {\n",
       "        vertical-align: top;\n",
       "    }\n",
       "\n",
       "    .dataframe thead th {\n",
       "        text-align: right;\n",
       "    }\n",
       "</style>\n",
       "<table border=\"1\" class=\"dataframe\">\n",
       "  <thead>\n",
       "    <tr style=\"text-align: right;\">\n",
       "      <th></th>\n",
       "      <th>time</th>\n",
       "      <th>value</th>\n",
       "    </tr>\n",
       "    <tr>\n",
       "      <th>Time</th>\n",
       "      <th></th>\n",
       "      <th></th>\n",
       "    </tr>\n",
       "  </thead>\n",
       "  <tbody>\n",
       "    <tr>\n",
       "      <th>0001-01-01 00:00:00</th>\n",
       "      <td>00:00:00</td>\n",
       "      <td>1.460000</td>\n",
       "    </tr>\n",
       "    <tr>\n",
       "      <th>0001-01-01 00:01:00</th>\n",
       "      <td>00:01:00</td>\n",
       "      <td>1.490000</td>\n",
       "    </tr>\n",
       "    <tr>\n",
       "      <th>0001-01-01 00:02:00</th>\n",
       "      <td>00:02:00</td>\n",
       "      <td>1.448333</td>\n",
       "    </tr>\n",
       "    <tr>\n",
       "      <th>0001-01-01 00:03:00</th>\n",
       "      <td>00:03:00</td>\n",
       "      <td>1.408333</td>\n",
       "    </tr>\n",
       "    <tr>\n",
       "      <th>0001-01-01 00:04:00</th>\n",
       "      <td>00:04:00</td>\n",
       "      <td>1.358667</td>\n",
       "    </tr>\n",
       "    <tr>\n",
       "      <th>...</th>\n",
       "      <td>...</td>\n",
       "      <td>...</td>\n",
       "    </tr>\n",
       "    <tr>\n",
       "      <th>0001-01-01 23:55:00</th>\n",
       "      <td>23:55:00</td>\n",
       "      <td>1.915857</td>\n",
       "    </tr>\n",
       "    <tr>\n",
       "      <th>0001-01-01 23:56:00</th>\n",
       "      <td>23:56:00</td>\n",
       "      <td>1.802000</td>\n",
       "    </tr>\n",
       "    <tr>\n",
       "      <th>0001-01-01 23:57:00</th>\n",
       "      <td>23:57:00</td>\n",
       "      <td>1.287500</td>\n",
       "    </tr>\n",
       "    <tr>\n",
       "      <th>0001-01-01 23:58:00</th>\n",
       "      <td>23:58:00</td>\n",
       "      <td>1.668571</td>\n",
       "    </tr>\n",
       "    <tr>\n",
       "      <th>0001-01-01 23:59:00</th>\n",
       "      <td>23:59:00</td>\n",
       "      <td>1.657143</td>\n",
       "    </tr>\n",
       "  </tbody>\n",
       "</table>\n",
       "<p>1440 rows × 2 columns</p>\n",
       "</div>"
      ],
      "text/plain": [
       "                         time     value\n",
       "Time                                   \n",
       "0001-01-01 00:00:00  00:00:00  1.460000\n",
       "0001-01-01 00:01:00  00:01:00  1.490000\n",
       "0001-01-01 00:02:00  00:02:00  1.448333\n",
       "0001-01-01 00:03:00  00:03:00  1.408333\n",
       "0001-01-01 00:04:00  00:04:00  1.358667\n",
       "...                       ...       ...\n",
       "0001-01-01 23:55:00  23:55:00  1.915857\n",
       "0001-01-01 23:56:00  23:56:00  1.802000\n",
       "0001-01-01 23:57:00  23:57:00  1.287500\n",
       "0001-01-01 23:58:00  23:58:00  1.668571\n",
       "0001-01-01 23:59:00  23:59:00  1.657143\n",
       "\n",
       "[1440 rows x 2 columns]"
      ]
     },
     "execution_count": 104,
     "metadata": {},
     "output_type": "execute_result"
    }
   ],
   "source": [
    "dfd"
   ]
  },
  {
   "cell_type": "code",
   "execution_count": 105,
   "id": "740d4b5d",
   "metadata": {},
   "outputs": [],
   "source": [
    "dfd.index = dfd.time"
   ]
  },
  {
   "cell_type": "code",
   "execution_count": 106,
   "id": "f8ca65fb",
   "metadata": {},
   "outputs": [
    {
     "data": {
      "text/plain": [
       "time\n",
       "00:00:00    1.460000\n",
       "00:01:00    1.490000\n",
       "00:02:00    1.448333\n",
       "00:03:00    1.408333\n",
       "00:04:00    1.358667\n",
       "              ...   \n",
       "23:55:00    1.915857\n",
       "23:56:00    1.802000\n",
       "23:57:00    1.287500\n",
       "23:58:00    1.668571\n",
       "23:59:00    1.657143\n",
       "Name: value, Length: 119, dtype: float64"
      ]
     },
     "execution_count": 106,
     "metadata": {},
     "output_type": "execute_result"
    }
   ],
   "source": [
    "dfd.loc[(dfd.index > time(23)) | (dfd.index< time(1)), 'value']"
   ]
  },
  {
   "cell_type": "code",
   "execution_count": 107,
   "id": "504cc78b",
   "metadata": {},
   "outputs": [],
   "source": [
    "peak_ser = df.loc[f'2021-10-09 {discharge_st}:00:00': f'2021-10-10 {discharge_et}:00:00', 'value']\n",
    "peak_energy = peak_ser.sum()/60\n",
    "#charge_energy = df.loc[f'2021-10-09 {charge_st}:00:00': f'2021-10-10 {charge_et}:00:00', 'value'].sum()/60"
   ]
  },
  {
   "cell_type": "code",
   "execution_count": 108,
   "id": "7545c3bd",
   "metadata": {},
   "outputs": [
    {
     "name": "stdout",
     "output_type": "stream",
     "text": [
      "(6.24, 0)\n"
     ]
    }
   ],
   "source": [
    "# Point 1 (B) - Size HP for Peak Load\n",
    "\n",
    "''' \n",
    "HP Capacity (kW) is x axis, TES size (kWh) is y axis\n",
    "Find peak load (kW) and make that the Heat Pump capacity without any TES\n",
    "This is refered to as Point B\n",
    "'''\n",
    "# hp_size_max = df.max().value # not using peak day\n",
    "hp_size_max = peak_ser.max() # using value in peak period\n",
    "point_1 = (hp_size_max, 0)\n",
    "print(point_1)"
   ]
  },
  {
   "cell_type": "code",
   "execution_count": 109,
   "id": "b88cbe11-b457-4404-a56f-dd6769f07c67",
   "metadata": {},
   "outputs": [
    {
     "name": "stdout",
     "output_type": "stream",
     "text": [
      "(3.12, 38.563833333333335)\n"
     ]
    }
   ],
   "source": [
    "# Point 2 (between A and B) - Size TES to reduce HP capacity\n",
    "\n",
    "'''\n",
    "Potentially unnecessary point\n",
    "\n",
    "Possible intermediate size: \n",
    "    Full cooling load for single Peak price hour within discharge window\n",
    "    Half the size \n",
    "'''\n",
    "hp_size = 0.5 * hp_size_max\n",
    "\n",
    "TES_size = peak_ser.loc[peak_ser - hp_size > 0].sum()/60 # load during peak period above what HP can provide\n",
    "\n",
    "point_2 = (hp_size, TES_size)\n",
    "print(point_2)\n",
    "\n"
   ]
  },
  {
   "cell_type": "code",
   "execution_count": 110,
   "id": "884af7d5-85db-45e4-a3ee-967b516c141f",
   "metadata": {},
   "outputs": [],
   "source": [
    "# Point 3 (A) - Minimize HP capacity\n",
    "'''\n",
    "Energy needed during peak - HP Capacity * discharge time - TES size = 0 (all energy at peak satisfied) \n",
    "hp_size = peak_energy / (charge_time + discharge_time)\n",
    "\n",
    "This is essentially the bottom line of the trapezoid\n",
    "'''\n",
    "size_reduction = -0.005\n",
    "hp_size = hp_size_max \n",
    "for i in range(0,10000):\n",
    "    # TES_size_prev = TES_size\n",
    "    # hp_size_prev = hp_size\n",
    "    hp_size = hp_size + size_reduction * i\n",
    "    TES_size = peak_ser.loc[peak_ser - hp_size > 0].sum()/60\n",
    "\n",
    "    if TES_size > (hp_size * charge_duration):\n",
    "        break\n",
    "\n",
    "    #size_reduction = (TES_size_prev - TES_size)/(hp_size_prev - hp_size)\n",
    "point_3 = (hp_size,TES_size)\n"
   ]
  },
  {
   "cell_type": "code",
   "execution_count": 111,
   "id": "1e3537b5",
   "metadata": {},
   "outputs": [
    {
     "data": {
      "text/plain": [
       "DatetimeIndex(['1999-12-31 23:00:00', '1999-12-31 23:01:00',\n",
       "               '1999-12-31 23:02:00', '1999-12-31 23:03:00',\n",
       "               '1999-12-31 23:04:00', '1999-12-31 23:05:00',\n",
       "               '1999-12-31 23:06:00', '1999-12-31 23:07:00',\n",
       "               '1999-12-31 23:08:00', '1999-12-31 23:09:00',\n",
       "               ...\n",
       "               '2000-01-01 22:51:00', '2000-01-01 22:52:00',\n",
       "               '2000-01-01 22:53:00', '2000-01-01 22:54:00',\n",
       "               '2000-01-01 22:55:00', '2000-01-01 22:56:00',\n",
       "               '2000-01-01 22:57:00', '2000-01-01 22:58:00',\n",
       "               '2000-01-01 22:59:00', '2000-01-01 23:00:00'],\n",
       "              dtype='datetime64[ns]', length=1441, freq='T')"
      ]
     },
     "execution_count": 111,
     "metadata": {},
     "output_type": "execute_result"
    }
   ],
   "source": [
    "pd.date_range(datetime(1999,12,31,23), datetime(2000,1,1,23), freq = 'T')"
   ]
  },
  {
   "cell_type": "code",
   "execution_count": 112,
   "id": "269aa519",
   "metadata": {},
   "outputs": [
    {
     "data": {
      "text/plain": [
       "datetime.datetime(2021, 10, 10, 0, 0)"
      ]
     },
     "execution_count": 112,
     "metadata": {},
     "output_type": "execute_result"
    }
   ],
   "source": [
    "datetime.strptime('2021-10-10', '%Y-%m-%d')"
   ]
  },
  {
   "cell_type": "code",
   "execution_count": 113,
   "id": "7479c65c-d180-4758-bb03-c9e46a2401f1",
   "metadata": {},
   "outputs": [
    {
     "name": "stdout",
     "output_type": "stream",
     "text": [
      "(5.664511708333334, 56.64511708333334)\n"
     ]
    }
   ],
   "source": [
    "# Point 4 C - Find TES size to supply all energy during discharge window\n",
    "''' \n",
    "peak energy = HP capacity * charge time\n",
    "''' \n",
    "TES_size = peak_energy\n",
    "hp_size = TES_size/charge_duration \n",
    "point_4 = (hp_size, TES_size)\n",
    "print(point_4)\n"
   ]
  },
  {
   "cell_type": "code",
   "execution_count": 114,
   "id": "97c6bf58",
   "metadata": {},
   "outputs": [
    {
     "data": {
      "text/plain": [
       "DatetimeIndex(['1999-12-31 23:00:00', '1999-12-31 23:01:00',\n",
       "               '1999-12-31 23:02:00', '1999-12-31 23:03:00',\n",
       "               '1999-12-31 23:04:00', '1999-12-31 23:05:00',\n",
       "               '1999-12-31 23:06:00', '1999-12-31 23:07:00',\n",
       "               '1999-12-31 23:08:00', '1999-12-31 23:09:00',\n",
       "               ...\n",
       "               '2000-01-01 22:50:00', '2000-01-01 22:51:00',\n",
       "               '2000-01-01 22:52:00', '2000-01-01 22:53:00',\n",
       "               '2000-01-01 22:54:00', '2000-01-01 22:55:00',\n",
       "               '2000-01-01 22:56:00', '2000-01-01 22:57:00',\n",
       "               '2000-01-01 22:58:00', '2000-01-01 22:59:00'],\n",
       "              dtype='datetime64[ns]', length=1440, freq='T')"
      ]
     },
     "execution_count": 114,
     "metadata": {},
     "output_type": "execute_result"
    }
   ],
   "source": [
    "pd.date_range(datetime(1999,12,31,23), datetime(2000,1,1,23-1,59), freq = 'T') "
   ]
  },
  {
   "cell_type": "code",
   "execution_count": 115,
   "id": "d3e731b3",
   "metadata": {},
   "outputs": [],
   "source": [
    "# Point 5 (D) - Maximum TES Size and maximum HP size"
   ]
  },
  {
   "cell_type": "markdown",
   "id": "0c4f581a",
   "metadata": {},
   "source": [
    "##  Class/Functions for plotting"
   ]
  },
  {
   "cell_type": "code",
   "execution_count": 116,
   "id": "6a8f3d13",
   "metadata": {},
   "outputs": [],
   "source": [
    "class HP_sizer():\n",
    "\n",
    "    def __init__(self, file, charge_p, discharge_p, day = None, index_col = 'Time', method = 'highest_ave'):\n",
    "        df = pd.read_csv(file, index_col= index_col, parse_dates= True)\n",
    "        #should be preprocessing\n",
    "        df['value'] = df['1A-Th-Chilled Water'].apply(self.parse_val_string)\n",
    "        df = df.drop(columns = '1A-Th-Chilled Water')\n",
    "      \n",
    "        # TODO: getting charge series and discharge series can all be one method\n",
    "        self.df = self.get_df(df, day, method)\n",
    "        self.charge_ser = self.get_period(self.df, charge_p)\n",
    "        self.peak_ser = self.get_period(self.df, discharge_p)\n",
    "       \n",
    "        self.peak_energy = self.peak_ser.sum()/60\n",
    "\n",
    "\n",
    "        self.hp_size_max = self.peak_ser.max() # probably shouldn't get this from peak series, should be from whole day\n",
    "\n",
    "        self.charge_p = charge_p\n",
    "        self.discharge_p = discharge_p\n",
    "\n",
    "        self.point_1 = (self.hp_size_max, 0)\n",
    "\n",
    "    def get_df(self, df, day, method):\n",
    "        # Can try different aggregation methods here\n",
    "        groups = df.groupby(df.index.date)\n",
    "        if day:\n",
    "            day = datetime.strptime(day, '%Y-%m-%d').date()\n",
    "            df = groups.get_group(day)\n",
    "            df.index = df.index.time\n",
    "        elif method == 'peak_load':\n",
    "            day = df.loc[df['value'] == df['value'].max()].index[0].date\n",
    "            df = groups.get_group(day)\n",
    "            df.index = df.index.time\n",
    "        # Highest average load\n",
    "        elif method == 'highest_ave':\n",
    "            mean_df = groups.mean()\n",
    "            day = mean_df.loc[mean_df['value'] == mean_df.max()[0]].index[0]\n",
    "            df = groups.get_group(day)\n",
    "            df.index = df.index.time\n",
    "        #Average of 7 highest load days\n",
    "        elif method == 'highest_7_days':\n",
    "            groups = df.groupby(df.index.date)\n",
    "            mean_df = groups.mean()\n",
    "            days = mean_df.sort_values(by = 'value', ascending=False).index[:7]\n",
    "            df = self.average_days(df, days)\n",
    "            print(f'df represents days {days}')\n",
    "        return df\n",
    "    \n",
    "    def average_days(self, df, days):\n",
    "        df=df.reset_index()\n",
    "        df['date']=df['Time'].dt.date\n",
    "        df['time']=df['Time'].dt.time\n",
    "        df_day = df.loc[df.date.isin(days)].groupby('time').mean()\n",
    "        return df_day\n",
    "\n",
    "    def get_period(self, df, period):\n",
    "        if period[0] > period[1]:\n",
    "            return df.loc[(df.index >= time(period[0])) | (df.index < time(period[1])), 'value']\n",
    "        else:\n",
    "            return df.loc[time(period[0]): time(period[1]), 'value']\n",
    "        #should have error if period is the same hour\n",
    "\n",
    "    def _tes_size(self, hp_size):\n",
    "        # should add something to make sure load is ALWAYS satisfied\n",
    "        # return hp_size * (self.charge_p[1] - self.charge_p[0] + 24)# engineering estimation, HP size * duration of charge\n",
    "        return (hp_size - self.charge_ser).sum()/60 # ALL unused HP capacity goes to TES\n",
    "\n",
    "    def sizing_plot(self):\n",
    "        x, y = self._bottom()\n",
    "        x2,y2= self._top()\n",
    "        x3,y3 = self._right()\n",
    "        plt.plot(x,y)\n",
    "        plt.plot(x2,y2)\n",
    "        plt.plot(x3,y3)\n",
    "        plt.xlabel('HP Capacity (kW)')\n",
    "        plt.ylabel('TES Size (kWh)')\n",
    "        plt.show()\n",
    "    \n",
    "    # def plot_series(self, ser):\n",
    "    #     plt.ylabel('kW')\n",
    "    #     # plt.ylim(ymin = 0, ymax=self.ymax)\n",
    "    #     plt.plot(ser)\n",
    "    #     t_fmt = mdates.DateFormatter('%H:%M')\n",
    "    #     plt.gca().xaxis.set_major_formatter(t_fmt)\n",
    "    # #       plt.xticks(rotation=45)\n",
    "    #     plt.show()\n",
    "\n",
    "\n",
    "    def _bottom(self):\n",
    "\n",
    "        hp_size = self.hp_size_max\n",
    "        size_reduction = -0.0005 \n",
    "\n",
    "        x = []\n",
    "        y = []\n",
    "        for i in range(0,100000):\n",
    "        \n",
    "            hp_size = hp_size + size_reduction * i\n",
    "            TES_size = self.peak_ser.loc[self.peak_ser - hp_size > 0].sum()/60\n",
    "\n",
    "            x.append(hp_size)\n",
    "            y.append(TES_size)\n",
    "\n",
    "            if TES_size > self._tes_size(hp_size):\n",
    "                break\n",
    "            \n",
    "        self.point_2 = (hp_size,TES_size)\n",
    "\n",
    "        return x, y\n",
    "\n",
    "    def _top(self):\n",
    "        # MUST run bottom before top\n",
    "        x = []\n",
    "        y = []\n",
    "        hp_size = self.hp_size_max\n",
    "        size_reduction = -0.0005 \n",
    "\n",
    "        for i in range(0,100000):\n",
    "            hp_size = hp_size + size_reduction * i\n",
    "\n",
    "            # may want to draw top, then another line for the maximum based on peak energy provided by TES\n",
    "            TES_size = self._tes_size(hp_size) # should subtract load in this period to make better estimate\n",
    "\n",
    "            if TES_size > self.peak_energy:\n",
    "                y.append(self.peak_energy)\n",
    "            else:\n",
    "                y.append(TES_size)\n",
    "            x.append(hp_size)\n",
    "\n",
    "            if hp_size <= self.point_2[0]: # This is cheating a bit\n",
    "                break\n",
    "            \n",
    "        return x, y\n",
    "\n",
    "    def _right(self):\n",
    "        # This whole function is cheaty\n",
    "        x = []\n",
    "        y = []\n",
    "\n",
    "        x.append(self.point_1[0])\n",
    "        x.append(self.point_1[0])\n",
    "\n",
    "        y.append(self.peak_energy)\n",
    "        y.append(0)\n",
    "\n",
    "        return x,y \n",
    "            \n",
    "\n",
    "    def parse_val_string(self, str_val):\n",
    "        str_splt = str_val.split(' ')\n",
    "        if str_splt[1] == 'kW':\n",
    "            return float(str_splt[0])\n",
    "        elif str_splt[1] == 'W':\n",
    "            return float(str_splt[0])/1000\n",
    "        elif str_splt[1] == 'mW':\n",
    "            return float(str_splt[0])/1000000\n",
    "        elif str_splt[1] == 'µW':\n",
    "            return float(str_splt[0])/1000000000  \n",
    "        else:\n",
    "            print(str_val)\n",
    "            #return 0 \n",
    "            raise(Exception('not kW or W or mW or µW'))"
   ]
  },
  {
   "cell_type": "code",
   "execution_count": 117,
   "id": "303f4aa1",
   "metadata": {},
   "outputs": [],
   "source": [
    "hps = HP_sizer('Cell 1A_1B Chilled Water Load -data-2022-09-30 00_41_29.csv', charge_p=(20,8), discharge_p=(12,19)) # specify date range?"
   ]
  },
  {
   "cell_type": "code",
   "execution_count": 118,
   "id": "8032fabc",
   "metadata": {},
   "outputs": [
    {
     "data": {
      "image/png": "[encoded data removed]",
      "text/plain": [
       "<Figure size 432x288 with 1 Axes>"
      ]
     },
     "metadata": {
      "needs_background": "light"
     },
     "output_type": "display_data"
    }
   ],
   "source": [
    "hps.sizing_plot()"
   ]
  },
  {
   "cell_type": "code",
   "execution_count": 119,
   "id": "724534af",
   "metadata": {},
   "outputs": [
    {
     "data": {
      "image/png": "[encoded data removed]",
      "text/plain": [
       "<Figure size 432x288 with 1 Axes>"
      ]
     },
     "metadata": {
      "needs_background": "light"
     },
     "output_type": "display_data"
    }
   ],
   "source": [
    "hps = HP_sizer('Cell 1A_1B Chilled Water Load -data-2022-09-30 00_41_29.csv', charge_p=(20,10), discharge_p=(12,20), day = '2021-10-10') # specify date range?\n",
    "hps.sizing_plot()"
   ]
  },
  {
   "cell_type": "code",
   "execution_count": 120,
   "id": "4450e570",
   "metadata": {},
   "outputs": [
    {
     "name": "stdout",
     "output_type": "stream",
     "text": [
      "df represents days Index([2021-10-05, 2021-10-03, 2021-10-01, 2021-09-14, 2021-10-02, 2021-10-04,\n",
      "       2021-09-21],\n",
      "      dtype='object')\n"
     ]
    },
    {
     "data": {
      "image/png": "[encoded data removed]",
      "text/plain": [
       "<Figure size 432x288 with 1 Axes>"
      ]
     },
     "metadata": {
      "needs_background": "light"
     },
     "output_type": "display_data"
    }
   ],
   "source": [
    "hps = HP_sizer('Cell 1A_1B Chilled Water Load -data-2022-09-30 00_41_29.csv', charge_p=(20,8), discharge_p=(11,19), method = 'highest_7_days') # specify date range?\n",
    "hps.sizing_plot()"
   ]
  },
  {
   "cell_type": "code",
   "execution_count": null,
   "id": "f1a41d74",
   "metadata": {},
   "outputs": [],
   "source": []
  }
 ],
 "metadata": {
  "kernelspec": {
   "display_name": "Python 3.8.3 ('base')",
   "language": "python",
   "name": "python3"
  },
  "language_info": {
   "codemirror_mode": {
    "name": "ipython",
    "version": 3
   },
   "file_extension": ".py",
   "mimetype": "text/x-python",
   "name": "python",
   "nbconvert_exporter": "python",
   "pygments_lexer": "ipython3",
   "version": "3.8.3"
  },
  "vscode": {
   "interpreter": {
    "hash": "4256a7c48e0d05b8c5d9035f2da9ccd67848a8ce35912b30e9695a74575e054a"
   }
  }
 },
 "nbformat": 4,
 "nbformat_minor": 5
}
