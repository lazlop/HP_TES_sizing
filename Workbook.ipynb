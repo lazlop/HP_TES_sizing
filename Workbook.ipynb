{
 "cells": [
  {
   "cell_type": "code",
   "execution_count": 245,
   "id": "2ad9ae1f-63a3-4692-8d8a-320a23160c74",
   "metadata": {},
   "outputs": [],
   "source": [
    "# HP-TES sizing\n",
    "import pandas as pd\n",
    "import matplotlib.pyplot as plt\n",
    "from datetime import datetime, timedelta, date"
   ]
  },
  {
   "cell_type": "markdown",
   "id": "4e1f7ee3-8983-4a9f-82e4-c7237067df3f",
   "metadata": {},
   "source": [
    "## Define Peak Price and Peak load overlap (discharge time) and charge time\n",
    "\n",
    "Lets say 12 - 6 pm is discharge 8pm to 10 am is charge"
   ]
  },
  {
   "cell_type": "markdown",
   "id": "c6577db3",
   "metadata": {},
   "source": [
    "## Find HP Sizing Trapezoid\n",
    "\n",
    "Points start in bottom right, and the perimeter of the sizing trapezoid is drawn clockwise from point 1 to point 2 to point 3, etc.\n",
    "\n",
    "Notes:\n",
    "USE CELL B AS REFERENCE or one without PCM\n",
    "Could aggregate for multiple dates\n",
    "Aggregation Methods:\n",
    " - Average multiple dates together, chosen visually\n",
    " - Select several of the highest max load days, average the trapezoids\n",
    " - Select several highest load days, average days then generate trapezoid\n",
    " - Select days with highest load DURING peak period\n",
    " - Select days with highest average of load and energy (during peak period or full day)\n"
   ]
  },
  {
   "cell_type": "code",
   "execution_count": 223,
   "id": "fac50a96",
   "metadata": {},
   "outputs": [],
   "source": [
    "# times must be 2 digit strings, 24 hour format\n",
    "charge_st = '20'\n",
    "charge_et = '10'\n",
    "charge_duration = 10\n",
    "discharge_st = '12'\n",
    "discharge_et = '20'"
   ]
  },
  {
   "cell_type": "code",
   "execution_count": 224,
   "id": "4584d6a6-2daf-48bb-aeeb-9d9808be4a1b",
   "metadata": {},
   "outputs": [
    {
     "data": {
      "text/html": [
       "<div>\n",
       "<style scoped>\n",
       "    .dataframe tbody tr th:only-of-type {\n",
       "        vertical-align: middle;\n",
       "    }\n",
       "\n",
       "    .dataframe tbody tr th {\n",
       "        vertical-align: top;\n",
       "    }\n",
       "\n",
       "    .dataframe thead th {\n",
       "        text-align: right;\n",
       "    }\n",
       "</style>\n",
       "<table border=\"1\" class=\"dataframe\">\n",
       "  <thead>\n",
       "    <tr style=\"text-align: right;\">\n",
       "      <th></th>\n",
       "      <th>1A-Th-Chilled Water</th>\n",
       "    </tr>\n",
       "    <tr>\n",
       "      <th>Time</th>\n",
       "      <th></th>\n",
       "    </tr>\n",
       "  </thead>\n",
       "  <tbody>\n",
       "    <tr>\n",
       "      <th>2021-08-09 13:28:00</th>\n",
       "      <td>2.20 kW</td>\n",
       "    </tr>\n",
       "    <tr>\n",
       "      <th>2021-08-09 13:29:00</th>\n",
       "      <td>2.48 kW</td>\n",
       "    </tr>\n",
       "    <tr>\n",
       "      <th>2021-08-09 13:33:00</th>\n",
       "      <td>1.75 kW</td>\n",
       "    </tr>\n",
       "    <tr>\n",
       "      <th>2021-08-09 13:34:00</th>\n",
       "      <td>1.59 kW</td>\n",
       "    </tr>\n",
       "    <tr>\n",
       "      <th>2021-08-09 13:35:00</th>\n",
       "      <td>1.51 kW</td>\n",
       "    </tr>\n",
       "  </tbody>\n",
       "</table>\n",
       "</div>"
      ],
      "text/plain": [
       "                    1A-Th-Chilled Water\n",
       "Time                                   \n",
       "2021-08-09 13:28:00             2.20 kW\n",
       "2021-08-09 13:29:00             2.48 kW\n",
       "2021-08-09 13:33:00             1.75 kW\n",
       "2021-08-09 13:34:00             1.59 kW\n",
       "2021-08-09 13:35:00             1.51 kW"
      ]
     },
     "execution_count": 224,
     "metadata": {},
     "output_type": "execute_result"
    }
   ],
   "source": [
    "# formatting data\n",
    "df = pd.read_csv('Cell 1A_1B Chilled Water Load -data-2022-09-30 00_41_29.csv', index_col= 'Time', parse_dates= True)\n",
    "df.head()"
   ]
  },
  {
   "cell_type": "code",
   "execution_count": 225,
   "id": "8638518c",
   "metadata": {},
   "outputs": [],
   "source": [
    "def get_kW(str_val):\n",
    "    str_splt = str_val.split(' ')\n",
    "    if str_splt[1] == 'kW':\n",
    "        return float(str_splt[0])\n",
    "    elif str_splt[1] == 'W':\n",
    "        return float(str_splt[0])/1000\n",
    "    elif str_splt[1] == 'mW':\n",
    "        return float(str_splt[0])/1000000\n",
    "    elif str_splt[1] == 'µW':\n",
    "        return float(str_splt[0])/1000000000  \n",
    "    else:\n",
    "        print(str_val)\n",
    "        #return 0 \n",
    "        raise(Exception('not kW or W or mW or µW'))\n"
   ]
  },
  {
   "cell_type": "code",
   "execution_count": 226,
   "id": "b924dd6d",
   "metadata": {},
   "outputs": [
    {
     "data": {
      "text/html": [
       "<div>\n",
       "<style scoped>\n",
       "    .dataframe tbody tr th:only-of-type {\n",
       "        vertical-align: middle;\n",
       "    }\n",
       "\n",
       "    .dataframe tbody tr th {\n",
       "        vertical-align: top;\n",
       "    }\n",
       "\n",
       "    .dataframe thead th {\n",
       "        text-align: right;\n",
       "    }\n",
       "</style>\n",
       "<table border=\"1\" class=\"dataframe\">\n",
       "  <thead>\n",
       "    <tr style=\"text-align: right;\">\n",
       "      <th></th>\n",
       "      <th>value</th>\n",
       "    </tr>\n",
       "    <tr>\n",
       "      <th>Time</th>\n",
       "      <th></th>\n",
       "    </tr>\n",
       "  </thead>\n",
       "  <tbody>\n",
       "    <tr>\n",
       "      <th>2021-08-09 13:28:00</th>\n",
       "      <td>2.20</td>\n",
       "    </tr>\n",
       "    <tr>\n",
       "      <th>2021-08-09 13:29:00</th>\n",
       "      <td>2.48</td>\n",
       "    </tr>\n",
       "    <tr>\n",
       "      <th>2021-08-09 13:33:00</th>\n",
       "      <td>1.75</td>\n",
       "    </tr>\n",
       "    <tr>\n",
       "      <th>2021-08-09 13:34:00</th>\n",
       "      <td>1.59</td>\n",
       "    </tr>\n",
       "    <tr>\n",
       "      <th>2021-08-09 13:35:00</th>\n",
       "      <td>1.51</td>\n",
       "    </tr>\n",
       "  </tbody>\n",
       "</table>\n",
       "</div>"
      ],
      "text/plain": [
       "                     value\n",
       "Time                      \n",
       "2021-08-09 13:28:00   2.20\n",
       "2021-08-09 13:29:00   2.48\n",
       "2021-08-09 13:33:00   1.75\n",
       "2021-08-09 13:34:00   1.59\n",
       "2021-08-09 13:35:00   1.51"
      ]
     },
     "execution_count": 226,
     "metadata": {},
     "output_type": "execute_result"
    }
   ],
   "source": [
    "df['value'] = df['1A-Th-Chilled Water'].apply(get_kW)\n",
    "df = df.drop(columns = '1A-Th-Chilled Water')\n",
    "df.head()"
   ]
  },
  {
   "cell_type": "code",
   "execution_count": 230,
   "id": "eb0e9013",
   "metadata": {},
   "outputs": [
    {
     "data": {
      "text/plain": [
       "8"
      ]
     },
     "execution_count": 230,
     "metadata": {},
     "output_type": "execute_result"
    }
   ],
   "source": [
    "7 - 23 + 24"
   ]
  },
  {
   "cell_type": "code",
   "execution_count": 236,
   "id": "8060881f",
   "metadata": {},
   "outputs": [
    {
     "data": {
      "text/plain": [
       "datetime.date(2021, 10, 6)"
      ]
     },
     "execution_count": 236,
     "metadata": {},
     "output_type": "execute_result"
    }
   ],
   "source": []
  },
  {
   "cell_type": "code",
   "execution_count": 254,
   "id": "52afb6d1",
   "metadata": {},
   "outputs": [
    {
     "ename": "TypeError",
     "evalue": "'hour' is an invalid keyword argument for replace()",
     "output_type": "error",
     "traceback": [
      "\u001b[0;31m---------------------------------------------------------------------------\u001b[0m",
      "\u001b[0;31mTypeError\u001b[0m                                 Traceback (most recent call last)",
      "\u001b[0;32m<ipython-input-254-f99a97ea3fdb>\u001b[0m in \u001b[0;36m<module>\u001b[0;34m\u001b[0m\n\u001b[0;32m----> 1\u001b[0;31m \u001b[0mmax_day\u001b[0m\u001b[0;34m.\u001b[0m\u001b[0mreplace\u001b[0m\u001b[0;34m(\u001b[0m\u001b[0mhour\u001b[0m \u001b[0;34m=\u001b[0m \u001b[0;36m6\u001b[0m\u001b[0;34m)\u001b[0m\u001b[0;34m\u001b[0m\u001b[0;34m\u001b[0m\u001b[0m\n\u001b[0m",
      "\u001b[0;31mTypeError\u001b[0m: 'hour' is an invalid keyword argument for replace()"
     ]
    }
   ],
   "source": [
    "max_day.replace(hour = 6)"
   ]
  },
  {
   "cell_type": "code",
   "execution_count": 250,
   "id": "ce3ce660",
   "metadata": {},
   "outputs": [
    {
     "data": {
      "text/plain": [
       "'2021-10-06'"
      ]
     },
     "execution_count": 250,
     "metadata": {},
     "output_type": "execute_result"
    }
   ],
   "source": [
    "datetime.strftime(max_day, '%Y-%m-%d')"
   ]
  },
  {
   "cell_type": "code",
   "execution_count": 148,
   "id": "504cc78b",
   "metadata": {},
   "outputs": [],
   "source": [
    "peak_ser = df.loc[f'2021-10-09 {discharge_st}:00:00': f'2021-10-10 {discharge_et}:00:00', 'value']\n",
    "peak_energy = peak_ser.sum()/60\n",
    "#charge_energy = df.loc[f'2021-10-09 {charge_st}:00:00': f'2021-10-10 {charge_et}:00:00', 'value'].sum()/60"
   ]
  },
  {
   "cell_type": "code",
   "execution_count": 149,
   "id": "7545c3bd",
   "metadata": {},
   "outputs": [
    {
     "name": "stdout",
     "output_type": "stream",
     "text": [
      "(6.24, 0)\n"
     ]
    }
   ],
   "source": [
    "# Point 1 (B) - Size HP for Peak Load\n",
    "\n",
    "''' \n",
    "HP Capacity (kW) is x axis, TES size (kWh) is y axis\n",
    "Find peak load (kW) and make that the Heat Pump capacity without any TES\n",
    "This is refered to as Point B\n",
    "'''\n",
    "# hp_size_max = df.max().value # not using peak day\n",
    "hp_size_max = peak_ser.max() # using value in peak period\n",
    "point_1 = (hp_size_max, 0)\n",
    "print(point_1)"
   ]
  },
  {
   "cell_type": "code",
   "execution_count": 150,
   "id": "b88cbe11-b457-4404-a56f-dd6769f07c67",
   "metadata": {},
   "outputs": [
    {
     "name": "stdout",
     "output_type": "stream",
     "text": [
      "(3.12, 38.563833333333335)\n"
     ]
    }
   ],
   "source": [
    "# Point 2 (between A and B) - Size TES to reduce HP capacity\n",
    "\n",
    "'''\n",
    "Potentially unnecessary point\n",
    "\n",
    "Possible intermediate size: \n",
    "    Full cooling load for single Peak price hour within discharge window\n",
    "    Half the size \n",
    "'''\n",
    "hp_size = 0.5 * hp_size_max\n",
    "\n",
    "TES_size = peak_ser.loc[peak_ser - hp_size > 0].sum()/60 # load during peak period above what HP can provide\n",
    "\n",
    "point_2 = (hp_size, TES_size)\n",
    "print(point_2)\n",
    "\n"
   ]
  },
  {
   "cell_type": "code",
   "execution_count": 151,
   "id": "884af7d5-85db-45e4-a3ee-967b516c141f",
   "metadata": {},
   "outputs": [],
   "source": [
    "# Point 3 (A) - Minimize HP capacity\n",
    "'''\n",
    "Energy needed during peak - HP Capacity * discharge time - TES size = 0 (all energy at peak satisfied) \n",
    "hp_size = peak_energy / (charge_time + discharge_time)\n",
    "\n",
    "This is essentially the bottom line of the trapezoid\n",
    "'''\n",
    "size_reduction = -0.005\n",
    "hp_size = hp_size_max \n",
    "for i in range(0,10000):\n",
    "    # TES_size_prev = TES_size\n",
    "    # hp_size_prev = hp_size\n",
    "    hp_size = hp_size + size_reduction * i\n",
    "    TES_size = peak_ser.loc[peak_ser - hp_size > 0].sum()/60\n",
    "\n",
    "    if TES_size > (hp_size * charge_duration):\n",
    "        break\n",
    "\n",
    "    #size_reduction = (TES_size_prev - TES_size)/(hp_size_prev - hp_size)\n",
    "point_3 = (hp_size,TES_size)\n"
   ]
  },
  {
   "cell_type": "code",
   "execution_count": 152,
   "id": "1e3537b5",
   "metadata": {},
   "outputs": [
    {
     "data": {
      "text/plain": [
       "(3.4350000000000014, 35.81733333333333)"
      ]
     },
     "execution_count": 152,
     "metadata": {},
     "output_type": "execute_result"
    }
   ],
   "source": [
    "point_3"
   ]
  },
  {
   "cell_type": "code",
   "execution_count": 248,
   "id": "269aa519",
   "metadata": {},
   "outputs": [
    {
     "data": {
      "text/plain": [
       "datetime.datetime(2021, 10, 10, 0, 0)"
      ]
     },
     "execution_count": 248,
     "metadata": {},
     "output_type": "execute_result"
    }
   ],
   "source": [
    "datetime.strptime('2021-10-10', '%Y-%m-%d')"
   ]
  },
  {
   "cell_type": "code",
   "execution_count": 153,
   "id": "7479c65c-d180-4758-bb03-c9e46a2401f1",
   "metadata": {},
   "outputs": [
    {
     "name": "stdout",
     "output_type": "stream",
     "text": [
      "(5.664511708333334, 56.64511708333334)\n"
     ]
    }
   ],
   "source": [
    "# Point 4 C - Find TES size to supply all energy during discharge window\n",
    "''' \n",
    "peak energy = HP capacity * charge time\n",
    "''' \n",
    "TES_size = peak_energy\n",
    "hp_size = TES_size/charge_duration \n",
    "point_4 = (hp_size, TES_size)\n",
    "print(point_4)\n"
   ]
  },
  {
   "cell_type": "code",
   "execution_count": 154,
   "id": "d3e731b3",
   "metadata": {},
   "outputs": [],
   "source": [
    "# Point 5 (D) - Maximum TES Size and maximum HP size"
   ]
  },
  {
   "cell_type": "markdown",
   "id": "0c4f581a",
   "metadata": {},
   "source": [
    "##  Class/Functions for plotting"
   ]
  },
  {
   "cell_type": "code",
   "execution_count": 299,
   "id": "6a8f3d13",
   "metadata": {},
   "outputs": [],
   "source": [
    "class HP_sizer():\n",
    "\n",
    "    def __init__(self, file, charge_p, discharge_p, day = None):\n",
    "        df = pd.read_csv(file, index_col= 'Time', parse_dates= True)\n",
    "        df['value'] = df['1A-Th-Chilled Water'].apply(self.parse_val_string)\n",
    "        self.df = df.drop(columns = '1A-Th-Chilled Water')\n",
    "\n",
    "        if day: \n",
    "            self.date = datetime.strptime(day, '%Y-%m-%d')\n",
    "        else:\n",
    "            self.date = self.select_day(self.df)\n",
    "        charge_st = (self.date - timedelta(days = 1)).replace(hour = charge_p[0])\n",
    "        charge_et = (self.date).replace(hour = charge_p[1])\n",
    "        print(f'charge series from {charge_st} to {charge_et}')\n",
    "\n",
    "        peak_st = (self.date).replace(hour = discharge_p[0])\n",
    "        peak_et = (self.date).replace(hour = discharge_p[1])\n",
    "        print(f'discharge series from {peak_st} to {peak_et}')\n",
    "\n",
    "        self.peak_ser = df.loc[peak_st: peak_et, 'value']\n",
    "        self.peak_energy = self.peak_ser.sum()/60\n",
    "\n",
    "        self.charge_ser = df.loc[charge_st: charge_et, 'value']\n",
    "\n",
    "        self.hp_size_max = self.peak_ser.max() # probably shouldn't get this from peak series, should be from whole day\n",
    "\n",
    "        self.charge_p = charge_p\n",
    "        self.discharge_p = discharge_p\n",
    "\n",
    "        self.point_1 = (self.hp_size_max, 0)\n",
    "\n",
    "    def select_day(self, df):\n",
    "        # Can try different aggregation methods here\n",
    "        # Day with highest peak load\n",
    "        # make select days? \n",
    "        max_day = df.loc[df['value'] == df['value'].max()].index[0]\n",
    "        return max_day.replace(hour = 0, minute=0, second=0)\n",
    "        \n",
    "    def _tes_size(self, hp_size):\n",
    "        # should add something to make sure load is ALWAYS satisfied\n",
    "        # return hp_size * (self.charge_p[1] - self.charge_p[0] + 24)# engineering estimation, HP size * duration of charge\n",
    "        return (hp_size - self.charge_ser).sum()/60 # ALL unused HP capacity goes to TES\n",
    "\n",
    "    def plot(self):\n",
    "        x, y = self._bottom()\n",
    "        x2,y2= self._top()\n",
    "        x3,y3 = self._right()\n",
    "        plt.plot(x,y)\n",
    "        plt.plot(x2,y2)\n",
    "        plt.plot(x3,y3)\n",
    "        plt.xlabel('HP Capacity (kW)')\n",
    "        plt.ylabel('TES Size (kWh)')\n",
    "        plt.show()\n",
    "\n",
    "    def _bottom(self):\n",
    "\n",
    "        hp_size = self.hp_size_max\n",
    "        size_reduction = -0.005 \n",
    "\n",
    "        x = []\n",
    "        y = []\n",
    "        for i in range(0,10000):\n",
    "        \n",
    "            hp_size = hp_size + size_reduction * i\n",
    "            TES_size = self.peak_ser.loc[self.peak_ser - hp_size > 0].sum()/60\n",
    "\n",
    "            x.append(hp_size)\n",
    "            y.append(TES_size)\n",
    "\n",
    "            if TES_size > self._tes_size(hp_size):\n",
    "                break\n",
    "            \n",
    "        self.point_2 = (hp_size,TES_size)\n",
    "\n",
    "        return x, y\n",
    "\n",
    "    def _top(self):\n",
    "        # MUST run bottom before top\n",
    "        x = []\n",
    "        y = []\n",
    "        hp_size = self.hp_size_max\n",
    "        size_reduction = -0.005 \n",
    "\n",
    "        for i in range(0,10000):\n",
    "            hp_size = hp_size + size_reduction * i\n",
    "\n",
    "            # may want to draw top, then another line for the maximum based on peak energy provided by TES\n",
    "            TES_size = self._tes_size(hp_size) # should subtract load in this period to make better estimate\n",
    "\n",
    "            if TES_size > self.peak_energy:\n",
    "                y.append(self.peak_energy)\n",
    "            else:\n",
    "                y.append(TES_size)\n",
    "            x.append(hp_size)\n",
    "\n",
    "            if hp_size <= self.point_2[0]: # This is cheating a bit\n",
    "                break\n",
    "            \n",
    "        return x, y\n",
    "\n",
    "    def _right(self):\n",
    "        # This whole function is cheaty\n",
    "        x = []\n",
    "        y = []\n",
    "\n",
    "        x.append(self.point_1[0])\n",
    "        x.append(self.point_1[0])\n",
    "\n",
    "        y.append(self.peak_energy)\n",
    "        y.append(0)\n",
    "\n",
    "        return x,y \n",
    "            \n",
    "\n",
    "    def parse_val_string(self, str_val):\n",
    "        str_splt = str_val.split(' ')\n",
    "        if str_splt[1] == 'kW':\n",
    "            return float(str_splt[0])\n",
    "        elif str_splt[1] == 'W':\n",
    "            return float(str_splt[0])/1000\n",
    "        elif str_splt[1] == 'mW':\n",
    "            return float(str_splt[0])/1000000\n",
    "        elif str_splt[1] == 'µW':\n",
    "            return float(str_splt[0])/1000000000  \n",
    "        else:\n",
    "            print(str_val)\n",
    "            #return 0 \n",
    "            raise(Exception('not kW or W or mW or µW'))"
   ]
  },
  {
   "cell_type": "code",
   "execution_count": 300,
   "id": "303f4aa1",
   "metadata": {},
   "outputs": [
    {
     "name": "stdout",
     "output_type": "stream",
     "text": [
      "charge series from 2021-10-09 20:00:00 to 2021-10-10 10:00:00\n",
      "discharge series from 2021-10-10 12:00:00 to 2021-10-10 20:00:00\n"
     ]
    }
   ],
   "source": [
    "hps = HP_sizer('Cell 1A_1B Chilled Water Load -data-2022-09-30 00_41_29.csv', charge_p=(20,10), discharge_p=(12,20), day = '2021-10-10') # specify date range?"
   ]
  },
  {
   "cell_type": "code",
   "execution_count": 301,
   "id": "2a07335a",
   "metadata": {},
   "outputs": [
    {
     "data": {
      "text/plain": [
       "22.224600000000002"
      ]
     },
     "execution_count": 301,
     "metadata": {},
     "output_type": "execute_result"
    }
   ],
   "source": [
    "hps.peak_ser.sum()/60"
   ]
  },
  {
   "cell_type": "code",
   "execution_count": 302,
   "id": "8032fabc",
   "metadata": {},
   "outputs": [
    {
     "data": {
      "image/png": "[encoded data removed]",
      "text/plain": [
       "<Figure size 432x288 with 1 Axes>"
      ]
     },
     "metadata": {
      "needs_background": "light"
     },
     "output_type": "display_data"
    }
   ],
   "source": [
    "hps.plot()"
   ]
  },
  {
   "cell_type": "code",
   "execution_count": 252,
   "id": "5ed0c98c",
   "metadata": {},
   "outputs": [
    {
     "data": {
      "text/plain": [
       "'2021-10-09'"
      ]
     },
     "execution_count": 252,
     "metadata": {},
     "output_type": "execute_result"
    }
   ],
   "source": [
    "day = '2021-10-10'\n",
    "date = datetime.strptime(day, '%Y-%m-%d')\n",
    "datetime.strftime(date - timedelta(days = 1), '%Y-%m-%d')"
   ]
  },
  {
   "cell_type": "code",
   "execution_count": null,
   "id": "635ba576",
   "metadata": {},
   "outputs": [],
   "source": []
  }
 ],
 "metadata": {
  "kernelspec": {
   "display_name": "Python 3.8.3 ('base')",
   "language": "python",
   "name": "python3"
  },
  "language_info": {
   "codemirror_mode": {
    "name": "ipython",
    "version": 3
   },
   "file_extension": ".py",
   "mimetype": "text/x-python",
   "name": "python",
   "nbconvert_exporter": "python",
   "pygments_lexer": "ipython3",
   "version": "3.8.3"
  },
  "vscode": {
   "interpreter": {
    "hash": "4256a7c48e0d05b8c5d9035f2da9ccd67848a8ce35912b30e9695a74575e054a"
   }
  }
 },
 "nbformat": 4,
 "nbformat_minor": 5
}
